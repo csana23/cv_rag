{
 "cells": [
  {
   "cell_type": "code",
   "execution_count": 6,
   "metadata": {},
   "outputs": [],
   "source": [
    "import os\n",
    "\n",
    "from langchain.chains import RetrievalQA\n",
    "from langchain.prompts import (\n",
    "    ChatPromptTemplate,\n",
    "    HumanMessagePromptTemplate,\n",
    "    PromptTemplate,\n",
    "    SystemMessagePromptTemplate,\n",
    ")\n",
    "from langchain.vectorstores.chroma import Chroma\n",
    "from langchain_openai import ChatOpenAI, OpenAIEmbeddings\n",
    "\n",
    "persist_directory = \"../chroma\"\n",
    "\n",
    "vector_db = Chroma(\n",
    "    persist_directory=persist_directory,\n",
    "    embedding_function=OpenAIEmbeddings()\n",
    ")   "
   ]
  },
  {
   "cell_type": "code",
   "execution_count": 7,
   "metadata": {},
   "outputs": [
    {
     "data": {
      "text/plain": [
       "30"
      ]
     },
     "execution_count": 7,
     "metadata": {},
     "output_type": "execute_result"
    }
   ],
   "source": [
    "vector_db._collection.count()"
   ]
  },
  {
   "cell_type": "code",
   "execution_count": 5,
   "metadata": {},
   "outputs": [
    {
     "data": {
      "text/plain": [
       "[Document(page_content='Given the developments in Ukraine and the Middle East, I had to see for\\n\\nmyself what the military life is like so I joined the French Foreign Legion.\\n\\nAfter a successful selection, completing one of the toughest military\\n\\ntraining programs in the world and becoming a Legionnaire I think I', metadata={'source': '..\\\\..\\\\data\\\\Richard_Csanaki_CV.txt', 'start_index': 378}),\n",
       " Document(page_content='entire BI pipeline: ETL, data modeling, visualization, reporting and\\n\\nML-based advanced analytics.\\n\\nEmployment History\\n\\nLEGIONNAIRE at FRENCH FOREIGN LEGION, Aubagne\\n\\nNovember 2023 \\x97 March 2024\\n\\nGiven the developments in Ukraine and the Middle East, I had to see for', metadata={'source': '..\\\\..\\\\data\\\\Richard_Csanaki_CV.txt', 'start_index': 183}),\n",
       " Document(page_content='training programs in the world and becoming a Legionnaire I think I\\n\\nhave seen enough.\\n\\nBI DEVELOPER at MAGNA INTERNATIONAL, Graz\\n\\nJune 2021 \\x97 August 2023\\n\\nGlobal HR Reporting:\\n\\nThe first full-fledged BI pipeline utilizing all global HR data', metadata={'source': '..\\\\..\\\\data\\\\Richard_Csanaki_CV.txt', 'start_index': 600})]"
      ]
     },
     "execution_count": 5,
     "metadata": {},
     "output_type": "execute_result"
    }
   ],
   "source": [
    "question = \"french foreign legion\"\n",
    "result = vector_db.similarity_search(question, k=3)\n",
    "result"
   ]
  },
  {
   "cell_type": "code",
   "execution_count": 41,
   "metadata": {},
   "outputs": [],
   "source": [
    "import chromadb\n",
    "from chromadb import Settings\n",
    "\n",
    "client = chromadb.Client(Settings(is_persistent=True, persist_directory=persist_directory))"
   ]
  },
  {
   "cell_type": "code",
   "execution_count": 8,
   "metadata": {},
   "outputs": [],
   "source": [
    "question_vector_chain = RetrievalQA.from_chain_type(\n",
    "    llm=ChatOpenAI(model=\"gpt-3.5-turbo\", temperature=0),\n",
    "    chain_type=\"stuff\",\n",
    "    retriever=vector_db.as_retriever(k=3)\n",
    ")\n"
   ]
  },
  {
   "cell_type": "code",
   "execution_count": null,
   "metadata": {},
   "outputs": [],
   "source": []
  }
 ],
 "metadata": {
  "kernelspec": {
   "display_name": "cv_rag_env",
   "language": "python",
   "name": "python3"
  },
  "language_info": {
   "codemirror_mode": {
    "name": "ipython",
    "version": 3
   },
   "file_extension": ".py",
   "mimetype": "text/x-python",
   "name": "python",
   "nbconvert_exporter": "python",
   "pygments_lexer": "ipython3",
   "version": "3.12.3"
  }
 },
 "nbformat": 4,
 "nbformat_minor": 2
}

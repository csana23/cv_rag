{
 "cells": [
  {
   "cell_type": "code",
   "execution_count": 2,
   "metadata": {},
   "outputs": [],
   "source": [
    "import PyPDF2\n",
    "\n",
    "def convert_pdf_to_txt(input_file, output_file):\n",
    "    with open(input_file, 'rb') as file:\n",
    "        pdf_reader = PyPDF2.PdfReader(file)\n",
    "        with open(output_file, 'w') as output:\n",
    "            for page_num in range(len(pdf_reader.pages)):\n",
    "                page = pdf_reader.pages[page_num]\n",
    "                text = page.extract_text()\n",
    "                output.write(text)\n",
    "\n",
    "input_file = \"../data/Richard_Csanaki_CV.pdf\"\n",
    "output_file = \"../data/Richard_Csanaki_CV.txt\"\n",
    "\n",
    "convert_pdf_to_txt(input_file, output_file)\n"
   ]
  },
  {
   "cell_type": "code",
   "execution_count": 2,
   "metadata": {},
   "outputs": [
    {
     "name": "stdout",
     "output_type": "stream",
     "text": [
      "A PDF file has been added to the folder!\n"
     ]
    }
   ],
   "source": [
    "import os\n",
    "\n",
    "def monitor_folder(folder_path):\n",
    "    while True:\n",
    "        # Get the list of files in the folder\n",
    "        files = os.listdir(folder_path)\n",
    "        \n",
    "        # Check if any PDF file is present in the folder\n",
    "        pdf_files = [file for file in files if file.endswith('.pdf')]\n",
    "        \n",
    "        if pdf_files:\n",
    "            print(\"A PDF file has been added to the folder!\")\n",
    "            break\n",
    "\n",
    "monitor_folder(\"../data\")"
   ]
  },
  {
   "cell_type": "code",
   "execution_count": null,
   "metadata": {},
   "outputs": [],
   "source": []
  }
 ],
 "metadata": {
  "kernelspec": {
   "display_name": "cv_rag_env",
   "language": "python",
   "name": "python3"
  },
  "language_info": {
   "codemirror_mode": {
    "name": "ipython",
    "version": 3
   },
   "file_extension": ".py",
   "mimetype": "text/x-python",
   "name": "python",
   "nbconvert_exporter": "python",
   "pygments_lexer": "ipython3",
   "version": "3.12.3"
  }
 },
 "nbformat": 4,
 "nbformat_minor": 2
}
